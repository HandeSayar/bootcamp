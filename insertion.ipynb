{
  "nbformat": 4,
  "nbformat_minor": 0,
  "metadata": {
    "colab": {
      "private_outputs": true,
      "provenance": [],
      "authorship_tag": "ABX9TyOLJtoSAiB3fXLRXu/I4MCA",
      "include_colab_link": true
    },
    "kernelspec": {
      "name": "python3",
      "display_name": "Python 3"
    },
    "language_info": {
      "name": "python"
    }
  },
  "cells": [
    {
      "cell_type": "markdown",
      "metadata": {
        "id": "view-in-github",
        "colab_type": "text"
      },
      "source": [
        "<a href=\"https://colab.research.google.com/github/HandeSayar/bootcamp/blob/main/insertion.ipynb\" target=\"_parent\"><img src=\"https://colab.research.google.com/assets/colab-badge.svg\" alt=\"Open In Colab\"/></a>"
      ]
    },
    {
      "cell_type": "code",
      "execution_count": null,
      "metadata": {
        "id": "i2pqQNuwNDEE"
      },
      "outputs": [],
      "source": [
        "# Insertion Sort\n",
        "\n",
        "# Initial list:\n",
        "arr = [22, 27, 16, 2, 18, 6]\n",
        "\n",
        "# Step-by-step Insertion Sort process:\n",
        "# Step 1: [22, 27, 16, 2, 18, 6] → 27 stays after 22 (no change)\n",
        "# Step 2: [22, 27, 16, 2, 18, 6] → insert 16 → [16, 22, 27, 2, 18, 6]\n",
        "# Step 3: [16, 22, 27, 2, 18, 6] → insert 2 → [2, 16, 22, 27, 18, 6]\n",
        "# Step 4: [2, 16, 22, 27, 18, 6] → insert 18 → [2, 16, 18, 22, 27, 6]\n",
        "# Step 5: [2, 16, 18, 22, 27, 6] → insert 6 → [2, 6, 16, 18, 22, 27]\n",
        "\n",
        "sorted_arr = [2, 6, 16, 18, 22, 27]\n",
        "print(\"Insertion Sort result:\", sorted_arr)\n",
        "\n",
        "# Big-O Notation:\n",
        "# Worst-case time complexity of Insertion Sort: O(n^2)\n",
        "\n",
        "# Time Complexity case of number 18 after sorting:\n",
        "# Sorted array: [2, 6, 16, 18, 22, 27]\n",
        "# 18 is in the middle of the list\n",
        "# Answer: Average Case\n",
        "\n",
        "# ------------------------------------------------------\n",
        "\n",
        "# Selection Sort\n",
        "\n",
        "# Initial array:\n",
        "selection_arr = [7, 3, 5, 8, 2, 9, 4, 15, 6]\n",
        "\n",
        "# First 4 steps of Selection Sort:\n",
        "\n",
        "# Step 1: Find min (2), swap with index 0 → [2, 3, 5, 8, 7, 9, 4, 15, 6]\n",
        "step1 = [2, 3, 5, 8, 7, 9, 4, 15, 6]\n",
        "\n",
        "# Step 2: Min is 3, already in place → no change\n",
        "step2 = step1.copy()\n",
        "\n",
        "# Step 3: Find min (4), swap with index 2 → [2, 3, 4, 8, 7, 9, 5, 15, 6]\n",
        "step3 = [2, 3, 4, 8, 7, 9, 5, 15, 6]\n",
        "\n",
        "# Step 4: Find min (5), swap with index 3 → [2, 3, 4, 5, 7, 9, 8, 15, 6]\n",
        "step4 = [2, 3, 4, 5, 7, 9, 8, 15, 6]\n",
        "\n",
        "print(\"After 4 steps of Selection Sort:\", step4)\n"
      ]
    },
    {
      "cell_type": "code",
      "source": [],
      "metadata": {
        "id": "9ZJgReFTNGaF"
      },
      "execution_count": null,
      "outputs": []
    }
  ]
}