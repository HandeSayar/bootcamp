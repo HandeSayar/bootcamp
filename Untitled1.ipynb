{
  "nbformat": 4,
  "nbformat_minor": 0,
  "metadata": {
    "colab": {
      "private_outputs": true,
      "provenance": [],
      "authorship_tag": "ABX9TyN3b/1GsWb9TsKs5SdS60sB",
      "include_colab_link": true
    },
    "kernelspec": {
      "name": "python3",
      "display_name": "Python 3"
    },
    "language_info": {
      "name": "python"
    }
  },
  "cells": [
    {
      "cell_type": "markdown",
      "metadata": {
        "id": "view-in-github",
        "colab_type": "text"
      },
      "source": [
        "<a href=\"https://colab.research.google.com/github/HandeSayar/bootcamp/blob/main/Untitled1.ipynb\" target=\"_parent\"><img src=\"https://colab.research.google.com/assets/colab-badge.svg\" alt=\"Open In Colab\"/></a>"
      ]
    },
    {
      "cell_type": "code",
      "execution_count": null,
      "metadata": {
        "id": "fDj0QhJzPbAq"
      },
      "outputs": [],
      "source": [
        "class Node:\n",
        "    def __init__(self, key):\n",
        "        self.key = key\n",
        "        self.left = None\n",
        "        self.right = None\n",
        "\n",
        "def insert(root, key):\n",
        "    if root is None:\n",
        "        return Node(key)\n",
        "    if key < root.key:\n",
        "        root.left = insert(root.left, key)\n",
        "    else:\n",
        "        root.right = insert(root.right, key)\n",
        "    return root\n",
        "\n",
        "def print_bst_creation_steps(arr):\n",
        "    root = None\n",
        "    steps = []\n",
        "\n",
        "    for i, key in enumerate(arr):\n",
        "        if i == 0:\n",
        "            root = insert(root, key)\n",
        "            steps.append(f\"Root node is {key}.\")\n",
        "        else:\n",
        "            current_node = root\n",
        "            path = []\n",
        "            while True:\n",
        "                path.append(current_node.key)\n",
        "                if key < current_node.key:\n",
        "                    if current_node.left is None:\n",
        "                        current_node.left = Node(key)\n",
        "                        steps.append(f\"Inserting {key}. Starting from root {root.key}, traverse: {' -> '.join(map(str, path))}. {key} is less than {current_node.key}, so it's inserted as the left child of {current_node.key}.\")\n",
        "                        break\n",
        "                    else:\n",
        "                        current_node = current_node.left\n",
        "                else:\n",
        "                    if current_node.right is None:\n",
        "                        current_node.right = Node(key)\n",
        "                        steps.append(f\"Inserting {key}. Starting from root {root.key}, traverse: {' -> '.join(map(str, path))}. {key} is greater than {current_node.key}, so it's inserted as the right child of {current_node.key}.\")\n",
        "                        break\n",
        "                    else:\n",
        "                        current_node = current_node.right\n",
        "    return steps\n",
        "\n",
        "# Given array\n",
        "arr = [7, 5, 1, 8, 3, 6, 0, 9, 4, 2]\n",
        "\n",
        "# Get the steps\n",
        "bst_steps = print_bst_creation_steps(arr)\n",
        "\n",
        "# Print the steps\n",
        "for step in bst_steps:\n",
        "    print(step)"
      ]
    },
    {
      "cell_type": "code",
      "source": [],
      "metadata": {
        "id": "K_jj4lh2Pb8S"
      },
      "execution_count": null,
      "outputs": []
    }
  ]
}