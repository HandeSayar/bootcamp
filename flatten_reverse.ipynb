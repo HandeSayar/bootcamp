{
  "nbformat": 4,
  "nbformat_minor": 0,
  "metadata": {
    "colab": {
      "private_outputs": true,
      "provenance": [],
      "name": "flatten-reverse.ipynb"
    },
    "kernelspec": {
      "name": "python3",
      "display_name": "Python 3"
    },
    "language_info": {
      "name": "python"
    }
  },
  "cells": [
    {
      "cell_type": "code",
      "source": [
        "# Function to flatten any nested list\n",
        "def flatten(lst):\n",
        "    result = []\n",
        "    for item in lst:\n",
        "        if isinstance(item, list):\n",
        "            result.extend(flatten(item))\n",
        "        else:\n",
        "            result.append(item)\n",
        "    return result"
      ],
      "metadata": {
        "id": "qJHgfbC8PCwK"
      },
      "execution_count": null,
      "outputs": []
    },
    {
      "cell_type": "code",
      "source": [
        "# Function to reverse a list and all its inner lists recursively\n",
        "def deep_reverse(lst):\n",
        "    reversed_list = []\n",
        "    for item in reversed(lst):\n",
        "        if isinstance(item, list):\n",
        "            reversed_list.append(deep_reverse(item))\n",
        "        else:\n",
        "            reversed_list.append(item)\n",
        "    return reversed_list"
      ],
      "metadata": {
        "id": "7Wf3iFZ1Pr1s"
      },
      "execution_count": null,
      "outputs": []
    },
    {
      "cell_type": "code",
      "source": [
        "# Shared nested list for testing both functions\n",
        "shared_list = [[10, ['x', [99]]], ['zebra', [[['alpha']]]], 42]"
      ],
      "metadata": {
        "id": "3aax30z6PuIo"
      },
      "execution_count": null,
      "outputs": []
    },
    {
      "cell_type": "code",
      "source": [
        "# Testing the functions\n",
        "print(\"Original list:\")\n",
        "print(shared_list)"
      ],
      "metadata": {
        "id": "DzPFptO6P5rt"
      },
      "execution_count": null,
      "outputs": []
    },
    {
      "cell_type": "code",
      "source": [
        "print(\"\\nFlattened list:\")\n",
        "print(flatten(shared_list))"
      ],
      "metadata": {
        "id": "sfVWR8LUP-NX"
      },
      "execution_count": null,
      "outputs": []
    },
    {
      "cell_type": "code",
      "source": [
        "print(\"\\nDeep reversed list:\")\n",
        "print(deep_reverse(shared_list))"
      ],
      "metadata": {
        "id": "f3x-lzVIQFPp"
      },
      "execution_count": null,
      "outputs": []
    },
    {
      "cell_type": "code",
      "source": [],
      "metadata": {
        "id": "Hyc9af6WQHMI"
      },
      "execution_count": null,
      "outputs": []
    }
  ]
}